{
 "cells": [
  {
   "cell_type": "markdown",
   "metadata": {},
   "source": [
    "## Applicant Tracking System Analysis using Thinknum Job Posting Database\n",
    "This project aims to analyse the usage and popularity of various applicant tracking systems using the dataset collected by tracking the individual job postings on corporate websites. I try to answer two questions for a preliminary proof of concept analysis of ATS systems using this dataset\n",
    "1. What are the most popoular ATS systems? \n",
    "2. Does region have an impact on the popularity of ATS systems?\n",
    "\n",
    "Further, we can do exploratory analysis on how the trend has been over the years, what kind of corporations use own job protals vs third party ATS systems, how many and what type of job openings are posted on each kind of ATS portal and more..."
   ]
  },
  {
   "cell_type": "code",
   "execution_count": 5,
   "metadata": {},
   "outputs": [],
   "source": [
    "import pandas as pd\n",
    "df = pd.read_csv('./temp_datalab_records_job_listings.csv',  chunksize=10000000)\n",
    "# dataset is 24G in size. Create a dataframe chunk of 10 million records\n",
    "for df_chunk in df:\n",
    "    poc_df = df_chunk\n",
    "    break"
   ]
  },
  {
   "cell_type": "code",
   "execution_count": 6,
   "metadata": {},
   "outputs": [
    {
     "data": {
      "text/html": [
       "<div>\n",
       "<style scoped>\n",
       "    .dataframe tbody tr th:only-of-type {\n",
       "        vertical-align: middle;\n",
       "    }\n",
       "\n",
       "    .dataframe tbody tr th {\n",
       "        vertical-align: top;\n",
       "    }\n",
       "\n",
       "    .dataframe thead th {\n",
       "        text-align: right;\n",
       "    }\n",
       "</style>\n",
       "<table border=\"1\" class=\"dataframe\">\n",
       "  <thead>\n",
       "    <tr style=\"text-align: right;\">\n",
       "      <th></th>\n",
       "      <th>dataset_id</th>\n",
       "      <th>listing_id</th>\n",
       "      <th>domain</th>\n",
       "      <th>as_of_date</th>\n",
       "      <th>title</th>\n",
       "      <th>url</th>\n",
       "      <th>brand</th>\n",
       "      <th>category</th>\n",
       "      <th>locality</th>\n",
       "      <th>region</th>\n",
       "      <th>...</th>\n",
       "      <th>date_added</th>\n",
       "      <th>date_updated</th>\n",
       "      <th>posted_date</th>\n",
       "      <th>location_string</th>\n",
       "      <th>description</th>\n",
       "      <th>entity_id</th>\n",
       "      <th>city_lat</th>\n",
       "      <th>city_lng</th>\n",
       "      <th>cusip</th>\n",
       "      <th>isin</th>\n",
       "    </tr>\n",
       "  </thead>\n",
       "  <tbody>\n",
       "    <tr>\n",
       "      <th>0</th>\n",
       "      <td>57644</td>\n",
       "      <td>https://careers-asburyauto.icims.com/jobs/1538...</td>\n",
       "      <td>careers-asburyauto.icims.com</td>\n",
       "      <td>2018-05-01</td>\n",
       "      <td>Automotive Technician Coggin Honda St. Augustine</td>\n",
       "      <td>https://careers-asburyauto.icims.com/jobs/1538...</td>\n",
       "      <td>Asbury Automotive Group</td>\n",
       "      <td>NaN</td>\n",
       "      <td>St. Augustine</td>\n",
       "      <td>FL</td>\n",
       "      <td>...</td>\n",
       "      <td>2018-05-01 02:15:18.856241+00</td>\n",
       "      <td>2018-05-01 02:15:18.856256+00</td>\n",
       "      <td>2018-04-12</td>\n",
       "      <td>St. Augustine, FL, US</td>\n",
       "      <td>NaN</td>\n",
       "      <td>NaN</td>\n",
       "      <td>NaN</td>\n",
       "      <td>NaN</td>\n",
       "      <td>NaN</td>\n",
       "      <td>NaN</td>\n",
       "    </tr>\n",
       "    <tr>\n",
       "      <th>1</th>\n",
       "      <td>2334936</td>\n",
       "      <td>http://jobs.jcp.com/jobs/2540326-window-commis...</td>\n",
       "      <td>jobs.jcp.com</td>\n",
       "      <td>2018-05-01</td>\n",
       "      <td>Window Commission Associate - Pheasant Lane Mall</td>\n",
       "      <td>http://jobs.jcp.com/jobs/2540326-window-commis...</td>\n",
       "      <td>NaN</td>\n",
       "      <td>NaN</td>\n",
       "      <td>Nashua</td>\n",
       "      <td>New Hampshire</td>\n",
       "      <td>...</td>\n",
       "      <td>2018-05-01 16:18:00.864272+00</td>\n",
       "      <td>2018-05-01 16:18:00.864287+00</td>\n",
       "      <td>NaN</td>\n",
       "      <td>NH-Nashua-Nashua, NH</td>\n",
       "      <td>NaN</td>\n",
       "      <td>NaN</td>\n",
       "      <td>NaN</td>\n",
       "      <td>NaN</td>\n",
       "      <td>NaN</td>\n",
       "      <td>NaN</td>\n",
       "    </tr>\n",
       "    <tr>\n",
       "      <th>2</th>\n",
       "      <td>57644</td>\n",
       "      <td>https://careers-asburyauto.icims.com/jobs/1486...</td>\n",
       "      <td>careers-asburyauto.icims.com</td>\n",
       "      <td>2018-05-01</td>\n",
       "      <td>Part Time Receptionist / Nights and Weekends /...</td>\n",
       "      <td>https://careers-asburyauto.icims.com/jobs/1486...</td>\n",
       "      <td>Asbury Automotive Group</td>\n",
       "      <td>NaN</td>\n",
       "      <td>Atlanta</td>\n",
       "      <td>GA</td>\n",
       "      <td>...</td>\n",
       "      <td>2018-05-01 02:15:18.85616+00</td>\n",
       "      <td>2018-05-01 02:15:18.856179+00</td>\n",
       "      <td>2018-03-05</td>\n",
       "      <td>Atlanta, GA, US</td>\n",
       "      <td>NaN</td>\n",
       "      <td>NaN</td>\n",
       "      <td>NaN</td>\n",
       "      <td>NaN</td>\n",
       "      <td>NaN</td>\n",
       "      <td>NaN</td>\n",
       "    </tr>\n",
       "    <tr>\n",
       "      <th>3</th>\n",
       "      <td>2335348</td>\n",
       "      <td>https://sci.jobs/york-pa/maintenance-worker/13...</td>\n",
       "      <td>sci.jobs</td>\n",
       "      <td>2018-05-01</td>\n",
       "      <td>Maintenance Worker</td>\n",
       "      <td>https://sci.jobs/york-pa/maintenance-worker/13...</td>\n",
       "      <td>NaN</td>\n",
       "      <td>NaN</td>\n",
       "      <td>York</td>\n",
       "      <td>Pennsylvania</td>\n",
       "      <td>...</td>\n",
       "      <td>2018-05-01 23:19:01.421894+00</td>\n",
       "      <td>2018-05-01 23:19:01.421909+00</td>\n",
       "      <td>NaN</td>\n",
       "      <td>NaN</td>\n",
       "      <td>NaN</td>\n",
       "      <td>NaN</td>\n",
       "      <td>NaN</td>\n",
       "      <td>NaN</td>\n",
       "      <td>NaN</td>\n",
       "      <td>NaN</td>\n",
       "    </tr>\n",
       "    <tr>\n",
       "      <th>4</th>\n",
       "      <td>57644</td>\n",
       "      <td>https://careers-asburyauto.icims.com/jobs/1542...</td>\n",
       "      <td>careers-asburyauto.icims.com</td>\n",
       "      <td>2018-05-01</td>\n",
       "      <td>Service Technician &amp; Used Technician McDavid P...</td>\n",
       "      <td>https://careers-asburyauto.icims.com/jobs/1542...</td>\n",
       "      <td>Asbury Automotive Group</td>\n",
       "      <td>NaN</td>\n",
       "      <td>Plano</td>\n",
       "      <td>TX</td>\n",
       "      <td>...</td>\n",
       "      <td>2018-05-01 02:15:18.85602+00</td>\n",
       "      <td>2018-05-01 02:15:18.856035+00</td>\n",
       "      <td>2018-04-16</td>\n",
       "      <td>Plano, TX, US</td>\n",
       "      <td>NaN</td>\n",
       "      <td>NaN</td>\n",
       "      <td>NaN</td>\n",
       "      <td>NaN</td>\n",
       "      <td>NaN</td>\n",
       "      <td>NaN</td>\n",
       "    </tr>\n",
       "  </tbody>\n",
       "</table>\n",
       "<p>5 rows × 22 columns</p>\n",
       "</div>"
      ],
      "text/plain": [
       "   dataset_id                                         listing_id  \\\n",
       "0       57644  https://careers-asburyauto.icims.com/jobs/1538...   \n",
       "1     2334936  http://jobs.jcp.com/jobs/2540326-window-commis...   \n",
       "2       57644  https://careers-asburyauto.icims.com/jobs/1486...   \n",
       "3     2335348  https://sci.jobs/york-pa/maintenance-worker/13...   \n",
       "4       57644  https://careers-asburyauto.icims.com/jobs/1542...   \n",
       "\n",
       "                         domain  as_of_date  \\\n",
       "0  careers-asburyauto.icims.com  2018-05-01   \n",
       "1                  jobs.jcp.com  2018-05-01   \n",
       "2  careers-asburyauto.icims.com  2018-05-01   \n",
       "3                      sci.jobs  2018-05-01   \n",
       "4  careers-asburyauto.icims.com  2018-05-01   \n",
       "\n",
       "                                               title  \\\n",
       "0   Automotive Technician Coggin Honda St. Augustine   \n",
       "1   Window Commission Associate - Pheasant Lane Mall   \n",
       "2  Part Time Receptionist / Nights and Weekends /...   \n",
       "3                                 Maintenance Worker   \n",
       "4  Service Technician & Used Technician McDavid P...   \n",
       "\n",
       "                                                 url                    brand  \\\n",
       "0  https://careers-asburyauto.icims.com/jobs/1538...  Asbury Automotive Group   \n",
       "1  http://jobs.jcp.com/jobs/2540326-window-commis...                      NaN   \n",
       "2  https://careers-asburyauto.icims.com/jobs/1486...  Asbury Automotive Group   \n",
       "3  https://sci.jobs/york-pa/maintenance-worker/13...                      NaN   \n",
       "4  https://careers-asburyauto.icims.com/jobs/1542...  Asbury Automotive Group   \n",
       "\n",
       "  category       locality         region  ...                     date_added  \\\n",
       "0      NaN  St. Augustine             FL  ...  2018-05-01 02:15:18.856241+00   \n",
       "1      NaN         Nashua  New Hampshire  ...  2018-05-01 16:18:00.864272+00   \n",
       "2      NaN        Atlanta             GA  ...   2018-05-01 02:15:18.85616+00   \n",
       "3      NaN           York   Pennsylvania  ...  2018-05-01 23:19:01.421894+00   \n",
       "4      NaN          Plano             TX  ...   2018-05-01 02:15:18.85602+00   \n",
       "\n",
       "                    date_updated posted_date        location_string  \\\n",
       "0  2018-05-01 02:15:18.856256+00  2018-04-12  St. Augustine, FL, US   \n",
       "1  2018-05-01 16:18:00.864287+00         NaN   NH-Nashua-Nashua, NH   \n",
       "2  2018-05-01 02:15:18.856179+00  2018-03-05        Atlanta, GA, US   \n",
       "3  2018-05-01 23:19:01.421909+00         NaN                    NaN   \n",
       "4  2018-05-01 02:15:18.856035+00  2018-04-16          Plano, TX, US   \n",
       "\n",
       "  description entity_id  city_lat  city_lng  cusip  isin  \n",
       "0         NaN       NaN       NaN       NaN    NaN   NaN  \n",
       "1         NaN       NaN       NaN       NaN    NaN   NaN  \n",
       "2         NaN       NaN       NaN       NaN    NaN   NaN  \n",
       "3         NaN       NaN       NaN       NaN    NaN   NaN  \n",
       "4         NaN       NaN       NaN       NaN    NaN   NaN  \n",
       "\n",
       "[5 rows x 22 columns]"
      ]
     },
     "execution_count": 6,
     "metadata": {},
     "output_type": "execute_result"
    }
   ],
   "source": [
    "poc_df.head()"
   ]
  },
  {
   "cell_type": "markdown",
   "metadata": {},
   "source": []
  },
  {
   "cell_type": "code",
   "execution_count": 25,
   "metadata": {},
   "outputs": [
    {
     "data": {
      "text/html": [
       "<div>\n",
       "<style scoped>\n",
       "    .dataframe tbody tr th:only-of-type {\n",
       "        vertical-align: middle;\n",
       "    }\n",
       "\n",
       "    .dataframe tbody tr th {\n",
       "        vertical-align: top;\n",
       "    }\n",
       "\n",
       "    .dataframe thead th {\n",
       "        text-align: right;\n",
       "    }\n",
       "</style>\n",
       "<table border=\"1\" class=\"dataframe\">\n",
       "  <thead>\n",
       "    <tr style=\"text-align: right;\">\n",
       "      <th></th>\n",
       "      <th>dataset_id</th>\n",
       "      <th>listing_id</th>\n",
       "      <th>domain</th>\n",
       "      <th>as_of_date</th>\n",
       "      <th>title</th>\n",
       "      <th>url</th>\n",
       "      <th>brand</th>\n",
       "      <th>category</th>\n",
       "      <th>locality</th>\n",
       "      <th>region</th>\n",
       "      <th>...</th>\n",
       "      <th>date_updated</th>\n",
       "      <th>posted_date</th>\n",
       "      <th>location_string</th>\n",
       "      <th>description</th>\n",
       "      <th>entity_id</th>\n",
       "      <th>city_lat</th>\n",
       "      <th>city_lng</th>\n",
       "      <th>cusip</th>\n",
       "      <th>isin</th>\n",
       "      <th>ATS System</th>\n",
       "    </tr>\n",
       "  </thead>\n",
       "  <tbody>\n",
       "    <tr>\n",
       "      <th>0</th>\n",
       "      <td>57644</td>\n",
       "      <td>https://careers-asburyauto.icims.com/jobs/1538...</td>\n",
       "      <td>careers-asburyauto.icims.com</td>\n",
       "      <td>2018-05-01</td>\n",
       "      <td>Automotive Technician Coggin Honda St. Augustine</td>\n",
       "      <td>https://careers-asburyauto.icims.com/jobs/1538...</td>\n",
       "      <td>Asbury Automotive Group</td>\n",
       "      <td>NaN</td>\n",
       "      <td>St. Augustine</td>\n",
       "      <td>FL</td>\n",
       "      <td>...</td>\n",
       "      <td>2018-05-01 02:15:18.856256+00</td>\n",
       "      <td>2018-04-12</td>\n",
       "      <td>St. Augustine, FL, US</td>\n",
       "      <td>NaN</td>\n",
       "      <td>NaN</td>\n",
       "      <td>NaN</td>\n",
       "      <td>NaN</td>\n",
       "      <td>NaN</td>\n",
       "      <td>NaN</td>\n",
       "      <td>icims</td>\n",
       "    </tr>\n",
       "    <tr>\n",
       "      <th>1</th>\n",
       "      <td>2334936</td>\n",
       "      <td>http://jobs.jcp.com/jobs/2540326-window-commis...</td>\n",
       "      <td>jobs.jcp.com</td>\n",
       "      <td>2018-05-01</td>\n",
       "      <td>Window Commission Associate - Pheasant Lane Mall</td>\n",
       "      <td>http://jobs.jcp.com/jobs/2540326-window-commis...</td>\n",
       "      <td>NaN</td>\n",
       "      <td>NaN</td>\n",
       "      <td>Nashua</td>\n",
       "      <td>New Hampshire</td>\n",
       "      <td>...</td>\n",
       "      <td>2018-05-01 16:18:00.864287+00</td>\n",
       "      <td>NaN</td>\n",
       "      <td>NH-Nashua-Nashua, NH</td>\n",
       "      <td>NaN</td>\n",
       "      <td>NaN</td>\n",
       "      <td>NaN</td>\n",
       "      <td>NaN</td>\n",
       "      <td>NaN</td>\n",
       "      <td>NaN</td>\n",
       "      <td>jcp</td>\n",
       "    </tr>\n",
       "    <tr>\n",
       "      <th>2</th>\n",
       "      <td>57644</td>\n",
       "      <td>https://careers-asburyauto.icims.com/jobs/1486...</td>\n",
       "      <td>careers-asburyauto.icims.com</td>\n",
       "      <td>2018-05-01</td>\n",
       "      <td>Part Time Receptionist / Nights and Weekends /...</td>\n",
       "      <td>https://careers-asburyauto.icims.com/jobs/1486...</td>\n",
       "      <td>Asbury Automotive Group</td>\n",
       "      <td>NaN</td>\n",
       "      <td>Atlanta</td>\n",
       "      <td>GA</td>\n",
       "      <td>...</td>\n",
       "      <td>2018-05-01 02:15:18.856179+00</td>\n",
       "      <td>2018-03-05</td>\n",
       "      <td>Atlanta, GA, US</td>\n",
       "      <td>NaN</td>\n",
       "      <td>NaN</td>\n",
       "      <td>NaN</td>\n",
       "      <td>NaN</td>\n",
       "      <td>NaN</td>\n",
       "      <td>NaN</td>\n",
       "      <td>icims</td>\n",
       "    </tr>\n",
       "    <tr>\n",
       "      <th>3</th>\n",
       "      <td>2335348</td>\n",
       "      <td>https://sci.jobs/york-pa/maintenance-worker/13...</td>\n",
       "      <td>sci.jobs</td>\n",
       "      <td>2018-05-01</td>\n",
       "      <td>Maintenance Worker</td>\n",
       "      <td>https://sci.jobs/york-pa/maintenance-worker/13...</td>\n",
       "      <td>NaN</td>\n",
       "      <td>NaN</td>\n",
       "      <td>York</td>\n",
       "      <td>Pennsylvania</td>\n",
       "      <td>...</td>\n",
       "      <td>2018-05-01 23:19:01.421909+00</td>\n",
       "      <td>NaN</td>\n",
       "      <td>NaN</td>\n",
       "      <td>NaN</td>\n",
       "      <td>NaN</td>\n",
       "      <td>NaN</td>\n",
       "      <td>NaN</td>\n",
       "      <td>NaN</td>\n",
       "      <td>NaN</td>\n",
       "      <td>sci</td>\n",
       "    </tr>\n",
       "    <tr>\n",
       "      <th>4</th>\n",
       "      <td>57644</td>\n",
       "      <td>https://careers-asburyauto.icims.com/jobs/1542...</td>\n",
       "      <td>careers-asburyauto.icims.com</td>\n",
       "      <td>2018-05-01</td>\n",
       "      <td>Service Technician &amp; Used Technician McDavid P...</td>\n",
       "      <td>https://careers-asburyauto.icims.com/jobs/1542...</td>\n",
       "      <td>Asbury Automotive Group</td>\n",
       "      <td>NaN</td>\n",
       "      <td>Plano</td>\n",
       "      <td>TX</td>\n",
       "      <td>...</td>\n",
       "      <td>2018-05-01 02:15:18.856035+00</td>\n",
       "      <td>2018-04-16</td>\n",
       "      <td>Plano, TX, US</td>\n",
       "      <td>NaN</td>\n",
       "      <td>NaN</td>\n",
       "      <td>NaN</td>\n",
       "      <td>NaN</td>\n",
       "      <td>NaN</td>\n",
       "      <td>NaN</td>\n",
       "      <td>icims</td>\n",
       "    </tr>\n",
       "  </tbody>\n",
       "</table>\n",
       "<p>5 rows × 23 columns</p>\n",
       "</div>"
      ],
      "text/plain": [
       "   dataset_id                                         listing_id  \\\n",
       "0       57644  https://careers-asburyauto.icims.com/jobs/1538...   \n",
       "1     2334936  http://jobs.jcp.com/jobs/2540326-window-commis...   \n",
       "2       57644  https://careers-asburyauto.icims.com/jobs/1486...   \n",
       "3     2335348  https://sci.jobs/york-pa/maintenance-worker/13...   \n",
       "4       57644  https://careers-asburyauto.icims.com/jobs/1542...   \n",
       "\n",
       "                         domain  as_of_date  \\\n",
       "0  careers-asburyauto.icims.com  2018-05-01   \n",
       "1                  jobs.jcp.com  2018-05-01   \n",
       "2  careers-asburyauto.icims.com  2018-05-01   \n",
       "3                      sci.jobs  2018-05-01   \n",
       "4  careers-asburyauto.icims.com  2018-05-01   \n",
       "\n",
       "                                               title  \\\n",
       "0   Automotive Technician Coggin Honda St. Augustine   \n",
       "1   Window Commission Associate - Pheasant Lane Mall   \n",
       "2  Part Time Receptionist / Nights and Weekends /...   \n",
       "3                                 Maintenance Worker   \n",
       "4  Service Technician & Used Technician McDavid P...   \n",
       "\n",
       "                                                 url                    brand  \\\n",
       "0  https://careers-asburyauto.icims.com/jobs/1538...  Asbury Automotive Group   \n",
       "1  http://jobs.jcp.com/jobs/2540326-window-commis...                      NaN   \n",
       "2  https://careers-asburyauto.icims.com/jobs/1486...  Asbury Automotive Group   \n",
       "3  https://sci.jobs/york-pa/maintenance-worker/13...                      NaN   \n",
       "4  https://careers-asburyauto.icims.com/jobs/1542...  Asbury Automotive Group   \n",
       "\n",
       "  category       locality         region  ...                   date_updated  \\\n",
       "0      NaN  St. Augustine             FL  ...  2018-05-01 02:15:18.856256+00   \n",
       "1      NaN         Nashua  New Hampshire  ...  2018-05-01 16:18:00.864287+00   \n",
       "2      NaN        Atlanta             GA  ...  2018-05-01 02:15:18.856179+00   \n",
       "3      NaN           York   Pennsylvania  ...  2018-05-01 23:19:01.421909+00   \n",
       "4      NaN          Plano             TX  ...  2018-05-01 02:15:18.856035+00   \n",
       "\n",
       "   posted_date        location_string description entity_id city_lat  \\\n",
       "0   2018-04-12  St. Augustine, FL, US         NaN       NaN      NaN   \n",
       "1          NaN   NH-Nashua-Nashua, NH         NaN       NaN      NaN   \n",
       "2   2018-03-05        Atlanta, GA, US         NaN       NaN      NaN   \n",
       "3          NaN                    NaN         NaN       NaN      NaN   \n",
       "4   2018-04-16          Plano, TX, US         NaN       NaN      NaN   \n",
       "\n",
       "   city_lng  cusip  isin  ATS System  \n",
       "0       NaN    NaN   NaN       icims  \n",
       "1       NaN    NaN   NaN         jcp  \n",
       "2       NaN    NaN   NaN       icims  \n",
       "3       NaN    NaN   NaN         sci  \n",
       "4       NaN    NaN   NaN       icims  \n",
       "\n",
       "[5 rows x 23 columns]"
      ]
     },
     "execution_count": 25,
     "metadata": {},
     "output_type": "execute_result"
    }
   ],
   "source": [
    "# Create an 'ATS System' column in the data frame by extracting it from the 'domain' name column \n",
    "poc_df['ATS System'] = poc_df['domain'].str.split('.').str[-2]\n",
    "poc_df.head()"
   ]
  },
  {
   "cell_type": "code",
   "execution_count": 26,
   "metadata": {},
   "outputs": [
    {
     "data": {
      "text/plain": [
       "<matplotlib.axes._subplots.AxesSubplot at 0x7f0184305750>"
      ]
     },
     "execution_count": 26,
     "metadata": {},
     "output_type": "execute_result"
    },
    {
     "data": {
      "image/png": "[encoded data removed]",
      "text/plain": [
       "<Figure size 432x288 with 1 Axes>"
      ]
     },
     "metadata": {
      "needs_background": "light"
     },
     "output_type": "display_data"
    }
   ],
   "source": [
    "# get the ATS system usage statistics\n",
    "ATS_df = poc_df.groupby('ATS System').size().reset_index(name='jobs_posted')\n",
    "ATS_df = ATS_df.sort_values(by='jobs_posted', ascending=False)\n",
    "ATS_df.plot(x='ATS System', y='jobs_posted')"
   ]
  },
  {
   "cell_type": "markdown",
   "metadata": {},
   "source": [
    "\n",
    "\n",
    "The image shows the plot of the various ATS systems including corporations own portal on x-asis vs the number of jobs posted on that portal. \n",
    "\n",
    "As we can expect a large share of these are held by the top few ATS portals and the rest are shared by corporations own portals\n"
   ]
  },
  {
   "cell_type": "code",
   "execution_count": 28,
   "metadata": {},
   "outputs": [
    {
     "data": {
      "text/plain": [
       "<matplotlib.axes._subplots.AxesSubplot at 0x7f018435ba50>"
      ]
     },
     "execution_count": 28,
     "metadata": {},
     "output_type": "execute_result"
    },
    {
     "data": {
      "image/png": "[encoded data removed]",
      "text/plain": [
       "<Figure size 432x288 with 1 Axes>"
      ]
     },
     "metadata": {
      "needs_background": "light"
     },
     "output_type": "display_data"
    }
   ],
   "source": [
    "# get top 4 ATS portals\n",
    "top_ATS_df = ATS_df.nlargest(4,'jobs_posted')\n",
    "top_ATS_df.plot(x='ATS System', y='jobs_posted')"
   ]
  },
  {
   "cell_type": "markdown",
   "metadata": {},
   "source": [
    "\n",
    "\n",
    "\n",
    "The image shows plot of the top 4 ATS systems on the x-asis VS the number of jobs posted on that portal. \n",
    "\n",
    "From this we can conclude that Taleo leads the market by a fair margin over the other 3 major ATS systems in market. But does this hold if we zoom in to a region and analyse. Let us see if this market share holds in the US and in India."
   ]
  },
  {
   "cell_type": "code",
   "execution_count": 29,
   "metadata": {},
   "outputs": [
    {
     "data": {
      "text/plain": [
       "<matplotlib.axes._subplots.AxesSubplot at 0x7f01843b2390>"
      ]
     },
     "execution_count": 29,
     "metadata": {},
     "output_type": "execute_result"
    },
    {
     "data": {
      "image/png": "[encoded data removed]",
      "text/plain": [
       "<Figure size 432x288 with 1 Axes>"
      ]
     },
     "metadata": {
      "needs_background": "light"
     },
     "output_type": "display_data"
    }
   ],
   "source": [
    "Country_ATS_df = poc_df.groupby(['country','ATS System']).size().reset_index(name='jobs_posted')\n",
    "Country_ATS_df = Country_ATS_df[Country_ATS_df['country']=='USA']\n",
    "\n",
    "top_Country_ATS_df = Country_ATS_df.nlargest(4,'jobs_posted')\n",
    "top_Country_ATS_df.plot(x='ATS System', y='jobs_posted')"
   ]
  },
  {
   "cell_type": "markdown",
   "metadata": {},
   "source": [
    "\n",
    "The image shows plot of the top 4 ATS systems on the x-asis VS the number of jobs posted on that portal for the US location.\n",
    "\n",
    "As we can see, although the trend seemed to remain the same, they differ similarly in the number of jobs posted from one to the next as opposed to the worldwide market where Taleo clearly leads by a big margin"
   ]
  },
  {
   "cell_type": "code",
   "execution_count": 30,
   "metadata": {},
   "outputs": [
    {
     "data": {
      "text/plain": [
       "<matplotlib.axes._subplots.AxesSubplot at 0x7f018438b310>"
      ]
     },
     "execution_count": 30,
     "metadata": {},
     "output_type": "execute_result"
    },
    {
     "data": {
      "image/png": "[encoded data removed]",
      "text/plain": [
       "<Figure size 432x288 with 1 Axes>"
      ]
     },
     "metadata": {
      "needs_background": "light"
     },
     "output_type": "display_data"
    }
   ],
   "source": [
    "Country_ATS_df = poc_df.groupby(['country','ATS System']).size().reset_index(name='jobs_posted')\n",
    "Country_ATS_df = Country_ATS_df[Country_ATS_df['country']=='IND']\n",
    "\n",
    "top_Country_ATS_df = Country_ATS_df.nlargest(4,'jobs_posted')\n",
    "top_Country_ATS_df.plot(x='ATS System', y='jobs_posted')"
   ]
  },
  {
   "cell_type": "markdown",
   "metadata": {},
   "source": [
    "\n",
    "The image shows plot of the top 4 ATS systems on the x-asis VS the number of jobs posted on that portal for the India location.\n",
    "\n",
    "Here Myworkdayjobs takes the major chunck of the market share. We can also note that Taleo, Myworkdayjobs and iCMS are the most popular in all the 3 graphs."
   ]
  }
 ],
 "metadata": {
  "kernelspec": {
   "display_name": "Python (coachenv)",
   "language": "python",
   "name": "coachenv"
  },
  "language_info": {
   "codemirror_mode": {
    "name": "ipython",
    "version": 3
   },
   "file_extension": ".py",
   "mimetype": "text/x-python",
   "name": "python",
   "nbconvert_exporter": "python",
   "pygments_lexer": "ipython3",
   "version": "3.7.6"
  }
 },
 "nbformat": 4,
 "nbformat_minor": 4
}
